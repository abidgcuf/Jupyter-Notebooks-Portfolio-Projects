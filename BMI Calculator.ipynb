{
 "cells": [
  {
   "cell_type": "markdown",
   "id": "41971af4-2614-4433-a506-faa2bc3aef98",
   "metadata": {},
   "source": [
    "# BMI Calculator"
   ]
  },
  {
   "cell_type": "code",
   "execution_count": 20,
   "id": "69279296-3042-4cf1-9fb0-002cd0c8ffc3",
   "metadata": {},
   "outputs": [
    {
     "name": "stdin",
     "output_type": "stream",
     "text": [
      "Enter Your Name Abid\n",
      "Enter Your waight in Pound:  170\n",
      "Enter Your waight in inches:  69\n"
     ]
    },
    {
     "name": "stdout",
     "output_type": "stream",
     "text": [
      "25.101869355177485\n",
      "Abid,You are over waight: \n"
     ]
    }
   ],
   "source": [
    "name = input(\"Enter Your Name\")\n",
    "wiight = int(input(\"Enter Your waight in Pound: \"))\n",
    "\n",
    "height = int(input(\"Enter Your waight in inches: \"))\n",
    "\n",
    "BMI = (waight * 703 ) / (height * height)\n",
    "print(BMI)\n",
    "if BMI >0:\n",
    "    if (BMI< 18.5):\n",
    "        print(name +\",You are under waight: \")\n",
    "    elif(BMI<= 24.5):\n",
    "        print(name + \",Your waight is normal: \")\n",
    "    elif(BMI<29.9):\n",
    "        print(name +\",You are over waight: \")\n",
    "    elif(BMI<34.9):\n",
    "        print(name + \",You are obese: \")\n",
    "    elif(BMI<39.9):\n",
    "        print(name +\",You are severely obese: \")\n",
    "    else:\n",
    "        print(name + \",You are morbidly obese: \")\n",
    "else:\n",
    "    print(\"Enter a valid input\")"
   ]
  },
  {
   "cell_type": "code",
   "execution_count": null,
   "id": "61295812-a215-47a7-9e4c-6777b90330a2",
   "metadata": {},
   "outputs": [],
   "source": []
  }
 ],
 "metadata": {
  "kernelspec": {
   "display_name": "Python 3 (ipykernel)",
   "language": "python",
   "name": "python3"
  },
  "language_info": {
   "codemirror_mode": {
    "name": "ipython",
    "version": 3
   },
   "file_extension": ".py",
   "mimetype": "text/x-python",
   "name": "python",
   "nbconvert_exporter": "python",
   "pygments_lexer": "ipython3",
   "version": "3.12.3"
  }
 },
 "nbformat": 4,
 "nbformat_minor": 5
}
