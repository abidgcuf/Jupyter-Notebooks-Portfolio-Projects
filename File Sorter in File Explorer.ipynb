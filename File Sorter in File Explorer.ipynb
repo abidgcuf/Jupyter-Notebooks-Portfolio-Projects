{
 "cells": [
  {
   "cell_type": "markdown",
   "id": "21161828-5046-4962-ace3-74df1685a67e",
   "metadata": {},
   "source": [
    "# File Sorter in File Explorer"
   ]
  },
  {
   "cell_type": "code",
   "execution_count": 1,
   "id": "7cbf5d20-cc96-422d-a37a-88e0b83b8829",
   "metadata": {},
   "outputs": [],
   "source": [
    "import os,shutil"
   ]
  },
  {
   "cell_type": "code",
   "execution_count": 2,
   "id": "9a79258f-f6d1-4bc3-9f01-d80868049403",
   "metadata": {},
   "outputs": [],
   "source": [
    "path = r\"C:/Users/hp21/Desktop/DATA ANALYSIS/Python Jupyter Notebook/Folder/\""
   ]
  },
  {
   "cell_type": "code",
   "execution_count": 3,
   "id": "1f9f8ff0-c2bf-4a22-9f38-0b52eaf062e0",
   "metadata": {},
   "outputs": [],
   "source": [
    "file_name = os.listdir(path)"
   ]
  },
  {
   "cell_type": "code",
   "execution_count": 4,
   "id": "549dd40c-dbea-4a81-a9e3-66b80983a624",
   "metadata": {},
   "outputs": [
    {
     "name": "stdout",
     "output_type": "stream",
     "text": [
      "C:/Users/hp21/Desktop/DATA ANALYSIS/Python Jupyter Notebook/Folder/csv files\n",
      "C:/Users/hp21/Desktop/DATA ANALYSIS/Python Jupyter Notebook/Folder/text files\n",
      "C:/Users/hp21/Desktop/DATA ANALYSIS/Python Jupyter Notebook/Folder/image files\n"
     ]
    }
   ],
   "source": [
    "folder_name = ['csv files','text files','image files']\n",
    "\n",
    "for loop in range(0,3):\n",
    "        if not os.path.exists(path + folder_name[loop]):\n",
    "            print(path + folder_name[loop])\n",
    "            os.makedirs((path + folder_name[loop]))"
   ]
  },
  {
   "cell_type": "code",
   "execution_count": 5,
   "id": "fa8eedb4-0b14-44ea-878b-5535519e4e24",
   "metadata": {},
   "outputs": [],
   "source": [
    "for file in file_name:\n",
    "    if \".csv\" in file and not os.path.exists(path + \"csv files/\" + file):\n",
    "        shutil.move(path + file,path + \"csv files/\" + file)\n",
    "    elif \".jpg\" in file and not os.path.exists(path + \"image files/\" + file):\n",
    "        shutil.move(path + file,path + \"image files/\" + file)\n",
    "    elif \".txt\" in file and not os.path.exists(path + \"text files/\" + file):\n",
    "        shutil.move(path + file,path + \"text files/\" + file)\n",
    "    else:\n",
    "        print(\"There are files in this path that do not moved\")"
   ]
  },
  {
   "cell_type": "code",
   "execution_count": null,
   "id": "bee7580d-688f-405e-9d05-ef12dab38bd5",
   "metadata": {},
   "outputs": [],
   "source": []
  }
 ],
 "metadata": {
  "kernelspec": {
   "display_name": "Python 3 (ipykernel)",
   "language": "python",
   "name": "python3"
  },
  "language_info": {
   "codemirror_mode": {
    "name": "ipython",
    "version": 3
   },
   "file_extension": ".py",
   "mimetype": "text/x-python",
   "name": "python",
   "nbconvert_exporter": "python",
   "pygments_lexer": "ipython3",
   "version": "3.12.3"
  }
 },
 "nbformat": 4,
 "nbformat_minor": 5
}
